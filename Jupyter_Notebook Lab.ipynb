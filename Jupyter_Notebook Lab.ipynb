{
 "cells": [
  {
   "cell_type": "markdown",
   "metadata": {},
   "source": [
    "<center>\n",
    "    <img src=\"https://cf-courses-data.s3.us.cloud-object-storage.appdomain.cloud/IBMDeveloperSkillsNetwork-DS0105EN-SkillsNetwork/labs/Module2/images/SN_web_lightmode.png\" width=\"300\" alt=\"cognitiveclass.ai logo\">\n",
    "</center>\n"
   ]
  },
  {
   "cell_type": "markdown",
   "metadata": {},
   "source": [
    "#### Add your code below following the instructions given in the course\n"
   ]
  },
  {
   "cell_type": "markdown",
   "metadata": {},
   "source": [
    "## H1 : Data Science Tools and Ecosystem"
   ]
  },
  {
   "cell_type": "markdown",
   "metadata": {},
   "source": [
    "## In this notebook, Data Science Tools and Ecosystem are summarized"
   ]
  },
  {
   "cell_type": "markdown",
   "metadata": {},
   "source": [
    "## Some of the popular languages that Data Scientists use are:\n",
    "- Python\n",
    "- R\n",
    "- SQL\n",
    "- Julia\n",
    "- Scala\n",
    "- Java\n",
    "- MATLAB\n",
    "- SAS\n",
    "- JavaScript"
   ]
  },
  {
   "cell_type": "markdown",
   "metadata": {},
   "source": [
    "## Some of the commonly used libraries used by Data Scientists include:\n",
    "- NumPy\n",
    "- pandas\n",
    "- scikit-learn\n",
    "- Matplotlib\n",
    "- Seaborn\n",
    "- TensorFlow\n",
    "- PyTorch\n",
    "- Keras\n",
    "- StatsModels\n",
    "- NLTK"
   ]
  },
  {
   "cell_type": "markdown",
   "metadata": {},
   "source": [
    "## Data Science tools used :\n",
    "| Data Science Tools       |\n",
    "|--------------------------|\n",
    "| Jupyter Notebook         |\n",
    "| RStudio                  |\n",
    "| Visual Studio Code       |\n",
    "| Spyder                   |\n",
    "| Anaconda Navigator       |\n",
    "| Google Colab             |\n",
    "| Kaggle Kernels           |\n",
    "| Apache Zeppelin          |\n",
    "| Databricks Community     |\n",
    "| IBM Watson Studio        |\n"
   ]
  },
  {
   "cell_type": "markdown",
   "metadata": {
    "tags": []
   },
   "source": [
    "## H3 : Below are a few examples of evaluating arithmetic expressions in Python\n",
    "\n",
    "In Python, you can perform arithmetic operations on numbers using operators such as addition, subtraction, multiplication, and division. Here are some examples of how arithmetic expressions are evaluated in Python:\n",
    "\n",
    "```python\n",
    "# Addition\n",
    "result = 5 + 3\n",
    "print(result)  # Output: 8\n",
    "\n",
    "# Subtraction\n",
    "result = 10 - 4\n",
    "print(result)  # Output: 6\n",
    "\n",
    "# Multiplication\n",
    "result = 6 * 7\n",
    "print(result)  # Output: 42\n",
    "\n",
    "# Division\n",
    "result = 15 / 3\n",
    "print(result)  # Output: 5.0\n",
    "\n",
    "# Mixed Operations\n",
    "result = (9 + 2) * 3 - 5\n",
    "print(result)  # Output: 28\n"
   ]
  },
  {
   "cell_type": "markdown",
   "metadata": {},
   "source": [
    "## This is a simple arithmetic expression to multiply then add integers.\n",
    "result = (3 * 4) + 5\n",
    "print(result)  # Expected Output: 17\n"
   ]
  },
  {
   "cell_type": "markdown",
   "metadata": {},
   "source": [
    "## This will convert 200 minutes to hours by dividing by 60.\n",
    "minutes = 200\n",
    "hours = minutes / 60\n",
    "print(hours)  # Output: 3.3333333333333335\n"
   ]
  },
  {
   "cell_type": "markdown",
   "metadata": {},
   "source": [
    "## Data Science Tools and Ecosystem Overview\n",
    "## some of the key takeaways from the course\n",
    "\n",
    "##Objectives:\n",
    "\n",
    "## List popular languages for Data Science.\n",
    "- Introduce common libraries used by Data Scientists.\n",
    "- Provide examples of evaluating arithmetic expressions in Python.\n",
    "- Demonstrate converting minutes to hours using Python expressions.\n",
    "- Explore basic usage of Git and GitHub for version control and collaboration.\n"
   ]
  },
  {
   "cell_type": "markdown",
   "metadata": {},
   "source": [
    "## Author\n",
    "\n",
    "Rangapur Raghu\n"
   ]
  },
  {
   "cell_type": "code",
   "execution_count": null,
   "metadata": {},
   "outputs": [],
   "source": []
  }
 ],
 "metadata": {
  "kernelspec": {
   "display_name": "Python",
   "language": "python",
   "name": "conda-env-python-py"
  },
  "language_info": {
   "codemirror_mode": {
    "name": "ipython",
    "version": 3
   },
   "file_extension": ".py",
   "mimetype": "text/x-python",
   "name": "python",
   "nbconvert_exporter": "python",
   "pygments_lexer": "ipython3",
   "version": "3.7.12"
  }
 },
 "nbformat": 4,
 "nbformat_minor": 4
}
